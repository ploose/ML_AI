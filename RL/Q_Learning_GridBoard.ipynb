{
 "cells": [
  {
   "cell_type": "code",
   "execution_count": 1,
   "metadata": {},
   "outputs": [],
   "source": [
    "# This notebook is based on an exercise during the MachLe Course of Prof. Christoph Würsch. Please do not distribute."
   ]
  },
  {
   "cell_type": "code",
   "execution_count": 11,
   "metadata": {},
   "outputs": [],
   "source": [
    "import numpy as np\n",
    "import matplotlib.pyplot as plt"
   ]
  },
  {
   "cell_type": "code",
   "execution_count": 12,
   "metadata": {},
   "outputs": [],
   "source": [
    "BOARD_ROWS = 3\n",
    "BOARD_COLS = 4\n",
    "WIN_STATE = (0, BOARD_ROWS)\n",
    "LOSE_STATE = (1, BOARD_ROWS)\n",
    "START = (2, 0)\n",
    "DETERMINISTIC = False\n",
    "DO_PRINT = False"
   ]
  },
  {
   "cell_type": "code",
   "execution_count": 13,
   "metadata": {},
   "outputs": [],
   "source": [
    "class Environment:\n",
    "    def __init__(self, state=START):\n",
    "        self.board = np.zeros([BOARD_ROWS, BOARD_COLS])\n",
    "        self.board[1, 1] = -1\n",
    "        self.state = state\n",
    "        self.isEnd = False\n",
    "        self.determine = DETERMINISTIC\n",
    "        \n",
    "    def giveReward(self):\n",
    "        if self.state == WIN_STATE:\n",
    "            return 1\n",
    "        elif self.state == LOSE_STATE:\n",
    "            return -1\n",
    "        else:\n",
    "            return 0\n",
    "    \n",
    "    def isEndFunc(self):\n",
    "        if (self.state == WIN_STATE) or (self.state == LOSE_STATE):\n",
    "            self.isEnd = True\n",
    "\n",
    "    def _chooseActionProb(self, action):\n",
    "        if action == \"up\":\n",
    "            return np.random.choice([\"up\", \"left\", \"right\"], p=[0.8, 0.1, 0.1])\n",
    "        if action == \"down\":\n",
    "            return np.random.choice([\"down\", \"left\", \"right\"], p=[0.8, 0.1, 0.1])\n",
    "        if action == \"left\":\n",
    "            return np.random.choice([\"left\", \"up\", \"down\"], p=[0.8, 0.1, 0.1])\n",
    "        if action == \"right\":\n",
    "            return np.random.choice([\"right\", \"up\", \"down\"], p=[0.8, 0.1, 0.1])\n",
    "        \n",
    "    def nxtPosition(self, action):\n",
    "    \n",
    "        if self.determine:\n",
    "            if action == \"up\":\n",
    "                nxtState = (self.state[0]-1, self.state[1])\n",
    "            elif action == \"down\":\n",
    "                nxtState = (self.state[0]+1, self.state[1])\n",
    "            elif action == \"left\":\n",
    "                nxtState = (self.state[0], self.state[1]-1)\n",
    "            else:\n",
    "                nxtState = (self.state[0], self.state[1]+1)\n",
    "            self.determine = False\n",
    "        else:\n",
    "            # non-deterministic\n",
    "            action = self._chooseActionProb(action)\n",
    "            self.determine = True\n",
    "            nxtState = self.nxtPosition(action)\n",
    "                        \n",
    "        # if next state is legal\n",
    "        if (nxtState[0] >= 0) and (nxtState[0] <= BOARD_ROWS-1):\n",
    "            if (nxtState[1] >= 0) and (nxtState[1] <= BOARD_COLS-1):\n",
    "                if nxtState != (1, 1):\n",
    "                    return nxtState\n",
    "        return self.state\n",
    "    \n",
    "    def showBoard(self):\n",
    "        self.board[self.state] = 1\n",
    "        for i in range(0, BOARD_ROWS):\n",
    "            print('-----------------')\n",
    "            out = '| '\n",
    "            for j in range(0, BOARD_COLS):\n",
    "                if self.board[i, j] == 1:\n",
    "                    token = '*'\n",
    "                if self.board[i, j] == -1:\n",
    "                    token = 'z'\n",
    "                if self.board[i, j] == 0:\n",
    "                    token = '0'\n",
    "                out += token + ' | '\n",
    "            print(out)\n",
    "        print('-----------------')    "
   ]
  },
  {
   "cell_type": "code",
   "execution_count": 14,
   "metadata": {},
   "outputs": [],
   "source": [
    "class Agent:\n",
    "    \n",
    "    def __init__(self):\n",
    "        self.states = []  # record position and action taken at the position\n",
    "        self.actions = [\"up\", \"down\", \"left\", \"right\"]\n",
    "        self.State = Environment()\n",
    "        self.isEnd = self.State.isEnd\n",
    "        self.lr = 0.2\n",
    "        self.exp_rate = 0.3\n",
    "        self.decay_gamma = 0.9\n",
    "        \n",
    "        self.state_values = {}\n",
    "\n",
    "        self.policy={}\n",
    "\n",
    "        self.Q_values = {}\n",
    "        for i in range(BOARD_ROWS):\n",
    "            for j in range(BOARD_COLS):\n",
    "                self.state_values[(i,j)]=0\n",
    "                self.Q_values[(i, j)] = {}\n",
    "                for a in self.actions:\n",
    "                    self.Q_values[(i, j)][a] = 0  # Q value is a dict of dict  \n",
    "    \n",
    "    def chooseAction(self):\n",
    "        # choose action with most expected value\n",
    "        mx_nxt_reward = 0\n",
    "        action = \"\"\n",
    "        \n",
    "        if np.random.uniform(0, 1) <= self.exp_rate:\n",
    "            action = np.random.choice(self.actions)\n",
    "        else:\n",
    "            # greedy action\n",
    "            for a in self.actions:\n",
    "                current_position = self.State.state\n",
    "                nxt_reward = self.Q_values[current_position][a]\n",
    "                if nxt_reward >= mx_nxt_reward:\n",
    "                    action = a\n",
    "                    mx_nxt_reward = nxt_reward\n",
    "        return action\n",
    "    \n",
    "    def takeAction(self, action):\n",
    "        position = self.State.nxtPosition(action)\n",
    "        # update State\n",
    "        return Environment(state=position)     \n",
    "    \n",
    "    def reset(self):\n",
    "        self.states = []\n",
    "        self.State = Environment()\n",
    "        self.isEnd = self.State.isEnd\n",
    "    \n",
    "    def play(self, rounds=10):\n",
    "        i = 0\n",
    "        while i < rounds:\n",
    "            # to the end of game back propagate reward\n",
    "            if self.State.isEnd:\n",
    "                # back propagate\n",
    "                reward = self.State.giveReward()\n",
    "                for a in self.actions:\n",
    "                    self.Q_values[self.State.state][a] = reward\n",
    "                if DO_PRINT:\n",
    "                    print(\"Game End Reward\", reward)\n",
    "                for s in reversed(self.states):\n",
    "                    current_q_value = self.Q_values[s[0]][s[1]]\n",
    "                    reward = current_q_value + self.lr*(self.decay_gamma*reward - current_q_value)\n",
    "                    self.Q_values[s[0]][s[1]] = round(reward, 3)\n",
    "                self.reset()\n",
    "                i += 1\n",
    "            else:\n",
    "                action = self.chooseAction()\n",
    "                # append trace\n",
    "                self.states.append([(self.State.state), action])\n",
    "                if DO_PRINT:\n",
    "                    print(\"current position {} action {}\".format(self.State.state, action))\n",
    "                # by taking the action, it reaches the next state\n",
    "                self.State = self.takeAction(action)\n",
    "                # mark is end\n",
    "                self.State.isEndFunc()\n",
    "                if DO_PRINT:\n",
    "                    print(\"nxt state\", self.State.state)\n",
    "                    print(\"---------------------\")\n",
    "                self.isEnd = self.State.isEnd\n",
    "    \n",
    "    def CalcValueFunction(self):\n",
    "        for i in range(BOARD_ROWS):\n",
    "            for j in range(BOARD_COLS):\n",
    "                Q=np.zeros(4)\n",
    "                for k,a in enumerate(self.actions):\n",
    "                    Q[k]=self.Q_values[(i, j)][a]\n",
    "                \n",
    "                #following the optimum policy\n",
    "                self.policy[(i,j)]=np.argmax(Q)\n",
    "                self.state_values[(i,j)]=self.state_values[(i,j)]+np.max(Q)\n",
    "    \n",
    "    # value function V*(s)\n",
    "    def showValues(self):\n",
    "        self.CalcValueFunction()\n",
    "        for i in range(0, BOARD_ROWS):\n",
    "            print('-----------------------------------')\n",
    "            out = '| '\n",
    "            for j in range(0, BOARD_COLS):\n",
    "                out += \"%+1.3f |\" % self.state_values[(i, j)]\n",
    "            print(out)\n",
    "        print('-----------------------------------')\n",
    "        \n",
    "    # optimum policy pi*(s)    \n",
    "    def showPolicy(self):\n",
    "        self.CalcValueFunction()\n",
    "        for i in range(0, BOARD_ROWS):\n",
    "            print('-----------------------------------')\n",
    "            out = '| '\n",
    "            for j in range(0, BOARD_COLS):\n",
    "                myPolicy=self.actions[self.policy[(i,j)]]\n",
    "                if myPolicy=='up':\n",
    "                    direction=' ^  '\n",
    "                if myPolicy=='down':\n",
    "                    direction=' v  '\n",
    "                if myPolicy=='left':\n",
    "                    direction=' <--'\n",
    "                if myPolicy=='right':\n",
    "                    direction=' -->'   \n",
    "                    \n",
    "                out += \"%s\\t|\" % direction\n",
    "            print(out)\n",
    "        print('-----------------------------------')\n",
    "        \n",
    "        "
   ]
  },
  {
   "cell_type": "code",
   "execution_count": 15,
   "metadata": {},
   "outputs": [],
   "source": [
    "ag = Agent()\n",
    "ag.reset()"
   ]
  },
  {
   "cell_type": "code",
   "execution_count": 16,
   "metadata": {},
   "outputs": [
    {
     "data": {
      "text/plain": [
       "{(0, 0): {'up': 0, 'down': 0, 'left': 0, 'right': 0},\n",
       " (0, 1): {'up': 0, 'down': 0, 'left': 0, 'right': 0},\n",
       " (0, 2): {'up': 0, 'down': 0, 'left': 0, 'right': 0},\n",
       " (0, 3): {'up': 0, 'down': 0, 'left': 0, 'right': 0},\n",
       " (1, 0): {'up': 0, 'down': 0, 'left': 0, 'right': 0},\n",
       " (1, 1): {'up': 0, 'down': 0, 'left': 0, 'right': 0},\n",
       " (1, 2): {'up': 0, 'down': 0, 'left': 0, 'right': 0},\n",
       " (1, 3): {'up': 0, 'down': 0, 'left': 0, 'right': 0},\n",
       " (2, 0): {'up': 0, 'down': 0, 'left': 0, 'right': 0},\n",
       " (2, 1): {'up': 0, 'down': 0, 'left': 0, 'right': 0},\n",
       " (2, 2): {'up': 0, 'down': 0, 'left': 0, 'right': 0},\n",
       " (2, 3): {'up': 0, 'down': 0, 'left': 0, 'right': 0}}"
      ]
     },
     "execution_count": 16,
     "metadata": {},
     "output_type": "execute_result"
    }
   ],
   "source": [
    "ag.Q_values"
   ]
  },
  {
   "cell_type": "code",
   "execution_count": 17,
   "metadata": {},
   "outputs": [],
   "source": [
    "ag.play(100)"
   ]
  },
  {
   "cell_type": "code",
   "execution_count": 18,
   "metadata": {},
   "outputs": [
    {
     "data": {
      "text/plain": [
       "{(0, 0): {'up': 0.335, 'down': 0.262, 'left': 0.325, 'right': 0.506},\n",
       " (0, 1): {'up': 0.488, 'down': 0.482, 'left': 0.324, 'right': 0.68},\n",
       " (0, 2): {'up': 0.481, 'down': 0.449, 'left': 0.459, 'right': 0.87},\n",
       " (0, 3): {'up': 1, 'down': 1, 'left': 1, 'right': 1},\n",
       " (1, 0): {'up': 0.401, 'down': 0.133, 'left': 0.304, 'right': 0.268},\n",
       " (1, 1): {'up': 0, 'down': 0, 'left': 0, 'right': 0},\n",
       " (1, 2): {'up': 0.382, 'down': 0.058, 'left': 0.323, 'right': -0.562},\n",
       " (1, 3): {'up': -1, 'down': -1, 'left': -1, 'right': -1},\n",
       " (2, 0): {'up': 0.323, 'down': 0.151, 'left': 0.169, 'right': 0.135},\n",
       " (2, 1): {'up': 0.023, 'down': 0.053, 'left': 0.211, 'right': -0.01},\n",
       " (2, 2): {'up': 0.185, 'down': 0.013, 'left': -0.004, 'right': -0.058},\n",
       " (2, 3): {'up': -0.18, 'down': -0.016, 'left': -0.002, 'right': -0.086}}"
      ]
     },
     "execution_count": 18,
     "metadata": {},
     "output_type": "execute_result"
    }
   ],
   "source": [
    "ag.Q_values"
   ]
  },
  {
   "cell_type": "code",
   "execution_count": 19,
   "metadata": {},
   "outputs": [
    {
     "name": "stdout",
     "output_type": "stream",
     "text": [
      "-----------------------------------\n",
      "| +0.506 |+0.680 |+0.870 |+1.000 |\n",
      "-----------------------------------\n",
      "| +0.401 |+0.000 |+0.382 |-1.000 |\n",
      "-----------------------------------\n",
      "| +0.323 |+0.211 |+0.185 |-0.002 |\n",
      "-----------------------------------\n"
     ]
    }
   ],
   "source": [
    "ag.showValues()"
   ]
  },
  {
   "cell_type": "code",
   "execution_count": 20,
   "metadata": {},
   "outputs": [
    {
     "data": {
      "text/plain": [
       "{(0, 0): 0.506,\n",
       " (0, 1): 0.68,\n",
       " (0, 2): 0.87,\n",
       " (0, 3): 1.0,\n",
       " (1, 0): 0.401,\n",
       " (1, 1): 0.0,\n",
       " (1, 2): 0.382,\n",
       " (1, 3): -1.0,\n",
       " (2, 0): 0.323,\n",
       " (2, 1): 0.211,\n",
       " (2, 2): 0.185,\n",
       " (2, 3): -0.002}"
      ]
     },
     "execution_count": 20,
     "metadata": {},
     "output_type": "execute_result"
    }
   ],
   "source": [
    "ag.state_values"
   ]
  },
  {
   "cell_type": "code",
   "execution_count": 21,
   "metadata": {},
   "outputs": [
    {
     "name": "stdout",
     "output_type": "stream",
     "text": [
      "-----------------------------------\n",
      "|  -->\t| -->\t| -->\t| ^  \t|\n",
      "-----------------------------------\n",
      "|  ^  \t| ^  \t| ^  \t| ^  \t|\n",
      "-----------------------------------\n",
      "|  ^  \t| <--\t| ^  \t| <--\t|\n",
      "-----------------------------------\n"
     ]
    }
   ],
   "source": [
    "ag.showPolicy()"
   ]
  }
 ],
 "metadata": {
  "kernelspec": {
   "display_name": "Python 3 (ipykernel)",
   "language": "python",
   "name": "python3"
  },
  "language_info": {
   "codemirror_mode": {
    "name": "ipython",
    "version": 3
   },
   "file_extension": ".py",
   "mimetype": "text/x-python",
   "name": "python",
   "nbconvert_exporter": "python",
   "pygments_lexer": "ipython3",
   "version": "3.7.0"
  }
 },
 "nbformat": 4,
 "nbformat_minor": 2
}
