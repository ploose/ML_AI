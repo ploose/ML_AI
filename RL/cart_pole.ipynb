{
  "cells": [
    {
      "cell_type": "code",
      "source": [],
      "metadata": {
        "id": "2iCOTci0FnXQ"
      },
      "execution_count": 5,
      "outputs": []
    },
    {
      "cell_type": "markdown",
      "metadata": {
        "id": "hQNTle0oFOOw"
      },
      "source": [
        "\n",
        "## Imports"
      ]
    },
    {
      "cell_type": "code",
      "source": [
        "# !pip install gym[box2d]\n",
        "# !pip install imageio-ffmpeg\n",
        "# !pip install pyvirtualdisplay"
      ],
      "metadata": {
        "id": "dRRDec-3KHQr"
      },
      "execution_count": 6,
      "outputs": []
    },
    {
      "cell_type": "code",
      "source": [
        "# %%bash\n",
        "# sudo apt-get install -y xvfb python-opengl > /dev/null 2>&1\n",
        "# pip install pyvirtualdisplay > /dev/null 2>&1\n",
        "# pip install git+https://github.com/tensorflow/docs > /dev/null 2>&1"
      ],
      "metadata": {
        "id": "QhAOeTrbKHJk"
      },
      "execution_count": 7,
      "outputs": []
    },
    {
      "cell_type": "code",
      "execution_count": 8,
      "metadata": {
        "id": "KYbOPKRtfQOr"
      },
      "outputs": [],
      "source": [
        "import time\n",
        "from collections import deque, namedtuple\n",
        "\n",
        "import gym\n",
        "import numpy as np\n",
        "import PIL.Image\n",
        "import tensorflow as tf\n",
        "import utils\n",
        "from learning import calculate_loss\n",
        "\n",
        "from pyvirtualdisplay import Display\n",
        "from tensorflow.keras import Sequential\n",
        "from tensorflow.keras.layers import Dense, Input\n",
        "from tensorflow.keras.losses import MSE\n",
        "from tensorflow.keras.optimizers import Adam"
      ]
    },
    {
      "cell_type": "code",
      "execution_count": 9,
      "metadata": {
        "id": "METIIiwrFOO2"
      },
      "outputs": [],
      "source": [
        "# Use in Jupyter Notebook\n",
        "Display(visible=0, size=(840, 480)).start();\n",
        "\n",
        "tf.random.set_seed(utils.SEED)"
      ]
    },
    {
      "cell_type": "markdown",
      "metadata": {
        "id": "PXU7KefZFOO2"
      },
      "source": [
        "\n",
        "## Hyperparameters"
      ]
    },
    {
      "cell_type": "code",
      "execution_count": 10,
      "metadata": {
        "id": "fAPZPMvmFOO2"
      },
      "outputs": [],
      "source": [
        "MEMORY_SIZE = 100_000\n",
        "GAMMA = 0.995        \n",
        "ALPHA = 1e-3           \n",
        "NUM_STEPS_FOR_UPDATE = 4 "
      ]
    },
    {
      "cell_type": "markdown",
      "metadata": {
        "id": "BVVo9xtxFOO3"
      },
      "source": [
        "\n",
        "## Get Gym Environment"
      ]
    },
    {
      "cell_type": "code",
      "execution_count": 11,
      "metadata": {
        "id": "ILVMYKewfR0n",
        "colab": {
          "base_uri": "https://localhost:8080/"
        },
        "outputId": "7eed3670-e639-4a58-c99c-7185648ccf42"
      },
      "outputs": [
        {
          "output_type": "stream",
          "name": "stderr",
          "text": [
            "/usr/local/lib/python3.7/dist-packages/gym/core.py:318: DeprecationWarning: \u001b[33mWARN: Initializing wrapper in old step API which returns one bool instead of two. It is recommended to set `new_step_api=True` to use new step API. This will be the default behaviour in future.\u001b[0m\n",
            "  \"Initializing wrapper in old step API which returns one bool instead of two. It is recommended to set `new_step_api=True` to use new step API. This will be the default behaviour in future.\"\n",
            "/usr/local/lib/python3.7/dist-packages/gym/wrappers/step_api_compatibility.py:40: DeprecationWarning: \u001b[33mWARN: Initializing environment in old step API which returns one bool instead of two. It is recommended to set `new_step_api=True` to use new step API. This will be the default behaviour in future.\u001b[0m\n",
            "  \"Initializing environment in old step API which returns one bool instead of two. It is recommended to set `new_step_api=True` to use new step API. This will be the default behaviour in future.\"\n"
          ]
        }
      ],
      "source": [
        "env = gym.make('CartPole-v1')"
      ]
    },
    {
      "cell_type": "code",
      "execution_count": 12,
      "metadata": {
        "colab": {
          "base_uri": "https://localhost:8080/",
          "height": 472
        },
        "id": "RfQPMOALFOO4",
        "outputId": "176672f2-d9a7-44fe-d71d-b1944624114f"
      },
      "outputs": [
        {
          "output_type": "stream",
          "name": "stderr",
          "text": [
            "/usr/local/lib/python3.7/dist-packages/gym/core.py:44: DeprecationWarning: \u001b[33mWARN: The argument mode in render method is deprecated; use render_mode during environment initialization instead.\n",
            "See here for more information: https://www.gymlibrary.ml/content/api/\u001b[0m\n",
            "  \"The argument mode in render method is deprecated; \"\n"
          ]
        },
        {
          "output_type": "execute_result",
          "data": {
            "text/plain": [
              "<PIL.Image.Image image mode=RGB size=600x400 at 0x7F01F3A12E90>"
            ],
            "image/png": "[encoded data removed]"
          },
          "metadata": {},
          "execution_count": 12
        }
      ],
      "source": [
        "env.reset()\n",
        "\n",
        "# Use in Jupyter Notebook\n",
        "PIL.Image.fromarray(env.render(mode='rgb_array'))"
      ]
    },
    {
      "cell_type": "markdown",
      "metadata": {
        "id": "HdoyW3wZFOO4"
      },
      "source": [
        "\n",
        "## Explore the environment"
      ]
    },
    {
      "cell_type": "code",
      "execution_count": 13,
      "metadata": {
        "id": "x3fdqdG4CUu2",
        "colab": {
          "base_uri": "https://localhost:8080/"
        },
        "outputId": "6b34eaf3-b106-4125-afcd-7a48fceae3cc"
      },
      "outputs": [
        {
          "output_type": "stream",
          "name": "stdout",
          "text": [
            "State Shape: (4,)\n",
            "Number of actions: 2\n"
          ]
        }
      ],
      "source": [
        "state_size = env.observation_space.shape\n",
        "num_actions = env.action_space.n\n",
        "\n",
        "print('State Shape:', state_size)\n",
        "print('Number of actions:', num_actions)"
      ]
    },
    {
      "cell_type": "code",
      "execution_count": 14,
      "metadata": {
        "id": "rf-baN9pFOO5"
      },
      "outputs": [],
      "source": [
        "initial_state = env.reset()"
      ]
    },
    {
      "cell_type": "code",
      "execution_count": 15,
      "metadata": {
        "colab": {
          "base_uri": "https://localhost:8080/",
          "height": 126
        },
        "id": "XNHeFWTiFOO5",
        "outputId": "7a265129-28d2-4ddc-b1c5-3da17b851ba1"
      },
      "outputs": [
        {
          "output_type": "execute_result",
          "data": {
            "text/plain": [
              "<class 'statsmodels.iolib.table.SimpleTable'>"
            ],
            "text/html": [
              "<table class=\"simpletable\">\n",
              "<tr>\n",
              "  <th>Initial State:</th>      <td>[-0.022 0.044 0.010 -0.048]</td>\n",
              "</tr>\n",
              "<tr>\n",
              "  <th>Action:</th>                     <td>Do nothing</td>         \n",
              "</tr>\n",
              "<tr>\n",
              "  <th>Next State:</th>         <td>[-0.021 -0.152 0.009 0.248]</td>\n",
              "</tr>\n",
              "<tr>\n",
              "  <th>Reward Received:</th>               <td>1.000</td>           \n",
              "</tr>\n",
              "<tr>\n",
              "  <th>Episode Terminated:</th>            <td>False</td>           \n",
              "</tr>\n",
              "</table>"
            ]
          },
          "metadata": {},
          "execution_count": 15
        }
      ],
      "source": [
        "action = 0\n",
        "\n",
        "next_state, reward, done, _ = env.step(action)\n",
        "\n",
        "utils.display_table(initial_state, action, next_state, reward, done)"
      ]
    },
    {
      "cell_type": "markdown",
      "metadata": {
        "id": "5QvnNX-9FOO6"
      },
      "source": [
        "\n",
        "## Create the Q-Network, the target Q-Network and the optimizer"
      ]
    },
    {
      "cell_type": "code",
      "execution_count": 16,
      "metadata": {
        "id": "R7vKKUXOFOO6"
      },
      "outputs": [],
      "source": [
        "\n",
        "q_network = Sequential([\n",
        "    Input(shape=state_size),                      \n",
        "    Dense(units=64, activation='relu'),            \n",
        "    Dense(units=64, activation='relu'),            \n",
        "    Dense(units=num_actions, activation='linear'),\n",
        "    ])\n",
        "\n",
        "target_q_network = Sequential([\n",
        "    Input(shape=state_size),                       \n",
        "    Dense(units=64, activation='relu'),            \n",
        "    Dense(units=64, activation='relu'),            \n",
        "    Dense(units=num_actions, activation='linear'), \n",
        "    ])\n",
        "\n",
        "optimizer = Adam(learning_rate=ALPHA)   \n"
      ]
    },
    {
      "cell_type": "code",
      "execution_count": 17,
      "metadata": {
        "id": "0vASFBrzFOO7"
      },
      "outputs": [],
      "source": [
        "experience = namedtuple(\"Experience\", field_names=[\"state\", \"action\", \"reward\", \"next_state\", \"done\"])"
      ]
    },
    {
      "cell_type": "markdown",
      "metadata": {
        "id": "5CQpjKRtFOO8"
      },
      "source": [
        "\n",
        "## Get gradients of the loss and update the weights"
      ]
    },
    {
      "cell_type": "code",
      "execution_count": 18,
      "metadata": {
        "id": "UmQkt9LMFOO8"
      },
      "outputs": [],
      "source": [
        "@tf.function\n",
        "def learn(experiences, gamma):\n",
        "    \"\"\"\n",
        "    Updates the weights of the Q networks.\n",
        "    \n",
        "    Args:\n",
        "      experiences: (tuple) tuple of [\"state\", \"action\", \"reward\", \"next_state\", \"done\"] namedtuples\n",
        "      gamma: (float) The discount factor.\n",
        "    \n",
        "    \"\"\"\n",
        "    \n",
        "    with tf.GradientTape() as tape:\n",
        "        loss = calculate_loss(experiences, gamma, q_network, target_q_network)\n",
        "\n",
        "    gradients = tape.gradient(loss, q_network.trainable_variables)\n",
        "    \n",
        "    optimizer.apply_gradients(zip(gradients, q_network.trainable_variables))\n",
        "\n",
        "    utils.update_target_network(q_network, target_q_network)"
      ]
    },
    {
      "cell_type": "markdown",
      "metadata": {
        "id": "p2R-f7nRFOO8"
      },
      "source": [
        "\n",
        "## Training Loop - Parameters"
      ]
    },
    {
      "cell_type": "code",
      "execution_count": 19,
      "metadata": {
        "id": "KoCNwq9mFOO8"
      },
      "outputs": [],
      "source": [
        "num_episodes = 2000\n",
        "max_num_timesteps = 1000\n",
        "reward_threshold = 475\n",
        "\n",
        "num_p_av = 100    # nr of values to use for averaging\n",
        "epsilon = 1.0     "
      ]
    },
    {
      "cell_type": "markdown",
      "metadata": {
        "id": "2quDmlImFOO8"
      },
      "source": [
        "\n",
        "## Training Loop"
      ]
    },
    {
      "cell_type": "code",
      "execution_count": 20,
      "metadata": {
        "colab": {
          "base_uri": "https://localhost:8080/"
        },
        "id": "I4wPCJmYFOO8",
        "outputId": "7c26e100-6635-4114-8f23-3c9f604c9930"
      },
      "outputs": [
        {
          "output_type": "stream",
          "name": "stdout",
          "text": [
            "Episode 100 | Average of the last 100 episodes: 17.26\n",
            "Episode 200 | Average of the last 100 episodes: 12.44\n",
            "Episode 300 | Average of the last 100 episodes: 11.01\n",
            "Episode 400 | Average of the last 100 episodes: 10.27\n",
            "Episode 500 | Average of the last 100 episodes: 9.94\n",
            "Episode 600 | Average of the last 100 episodes: 9.78\n",
            "Episode 700 | Average of the last 100 episodes: 10.13\n",
            "Episode 800 | Average of the last 100 episodes: 12.97\n",
            "Episode 900 | Average of the last 100 episodes: 22.28\n",
            "Episode 1000 | Average of the last 100 episodes: 249.22\n",
            "Episode 1100 | Average of the last 100 episodes: 215.03\n",
            "Episode 1200 | Average of the last 100 episodes: 177.83\n",
            "Episode 1300 | Average of the last 100 episodes: 166.72\n",
            "Episode 1400 | Average of the last 100 episodes: 158.45\n",
            "Episode 1500 | Average of the last 100 episodes: 165.00\n",
            "Episode 1600 | Average of the last 100 episodes: 146.55\n",
            "Episode 1700 | Average of the last 100 episodes: 128.17\n",
            "Episode 1800 | Average of the last 100 episodes: 127.78\n",
            "Episode 1900 | Average of the last 100 episodes: 147.82\n",
            "Episode 2000 | Average of the last 100 episodes: 136.59\n",
            "\n",
            "Runtime: 453.51 s (7.56 min)\n"
          ]
        }
      ],
      "source": [
        "start = time.time()\n",
        "\n",
        "total_point_history = []\n",
        "\n",
        "memory_buffer = deque(maxlen=MEMORY_SIZE)\n",
        "\n",
        "target_q_network.set_weights(q_network.get_weights())\n",
        "\n",
        "for i in range(num_episodes):\n",
        "    \n",
        "    state = env.reset()\n",
        "    total_points = 0\n",
        "    \n",
        "    for t in range(max_num_timesteps):\n",
        "        \n",
        "        # ε-greedy\n",
        "        state_qn = np.expand_dims(state, axis=0) \n",
        "        q_values = q_network(state_qn)\n",
        "        action = utils.get_action(q_values, 2, epsilon)\n",
        "        \n",
        "        next_state, reward, done, _ = env.step(action)\n",
        "        \n",
        "        memory_buffer.append(experience(state, action, reward, next_state, done))\n",
        "        \n",
        "        update = utils.check_update_conditions(t, NUM_STEPS_FOR_UPDATE, memory_buffer)\n",
        "        \n",
        "        if update:\n",
        "            experiences = utils.get_experiences(memory_buffer)\n",
        "            \n",
        "            learn(experiences, GAMMA)\n",
        "        \n",
        "        state = next_state.copy()\n",
        "        total_points += reward\n",
        "        \n",
        "        if done:\n",
        "            break\n",
        "            \n",
        "    total_point_history.append(total_points)\n",
        "    av_latest_points = np.mean(total_point_history[-num_p_av:])\n",
        "    \n",
        "    epsilon = utils.get_new_eps(epsilon)\n",
        "\n",
        "    print(f\"\\rEpisode {i+1} | Average of the last {num_p_av} episodes: {av_latest_points:.2f}\", end=\"\")\n",
        "\n",
        "    if (i+1) % num_p_av == 0:\n",
        "        print(f\"\\rEpisode {i+1} | Average of the last {num_p_av} episodes: {av_latest_points:.2f}\")\n",
        "\n",
        "    if av_latest_points >= reward_threshold:\n",
        "        print(f\"\\n\\nEnvironment solved in {i+1} episodes!\")\n",
        "        q_network.save('cartpole_network.h5')\n",
        "        break\n",
        "        \n",
        "tot_time = time.time() - start\n",
        "\n",
        "print(f\"\\nRuntime: {tot_time:.2f} s ({(tot_time/60):.2f} min)\")"
      ]
    },
    {
      "cell_type": "code",
      "execution_count": 21,
      "metadata": {
        "id": "E_EUXxurfe8m",
        "scrolled": false,
        "colab": {
          "base_uri": "https://localhost:8080/",
          "height": 501
        },
        "outputId": "d2699dce-f3c9-44fa-8981-440b546f81b9"
      },
      "outputs": [
        {
          "output_type": "display_data",
          "data": {
            "text/plain": [
              "<Figure size 720x504 with 1 Axes>"
            ],
            "image/png": "[encoded data removed]"
          },
          "metadata": {}
        }
      ],
      "source": [
        "# Plot the point history\n",
        "utils.plot_history(total_point_history)"
      ]
    },
    {
      "cell_type": "code",
      "execution_count": 22,
      "metadata": {
        "id": "g804artqFOO9"
      },
      "outputs": [],
      "source": [
        "import logging\n",
        "logging.getLogger().setLevel(logging.ERROR)"
      ]
    },
    {
      "cell_type": "code",
      "execution_count": 23,
      "metadata": {
        "id": "3Ttb_zLeJKiG",
        "colab": {
          "base_uri": "https://localhost:8080/",
          "height": 555
        },
        "outputId": "e72b6aed-f6de-4fa4-f75e-9c6ece446ee3"
      },
      "outputs": [
        {
          "output_type": "stream",
          "name": "stderr",
          "text": [
            "/usr/local/lib/python3.7/dist-packages/gym/core.py:44: DeprecationWarning: \u001b[33mWARN: The argument mode in render method is deprecated; use render_mode during environment initialization instead.\n",
            "See here for more information: https://www.gymlibrary.ml/content/api/\u001b[0m\n",
            "  \"The argument mode in render method is deprecated; \"\n"
          ]
        },
        {
          "output_type": "execute_result",
          "data": {
            "text/plain": [
              "<IPython.core.display.HTML object>"
            ],
            "text/html": [
              "\n",
              "    <video width=\"840\" height=\"480\" controls>\n",
              "    <source src=\"data:video/mp4;base64,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\" type=\"video/mp4\">\n",
              "    Your browser does not support the video tag.\n",
              "    </video>"
            ]
          },
          "metadata": {},
          "execution_count": 23
        }
      ],
      "source": [
        "# Run on Jupyter Notebook\n",
        "\n",
        "filename = \"./videos/cartpole.mp4\"\n",
        "\n",
        "utils.create_video(filename, env, q_network)\n",
        "utils.embed_mp4(filename)"
      ]
    }
  ],
  "metadata": {
    "accelerator": "GPU",
    "colab": {
      "collapsed_sections": [],
      "provenance": []
    },
    "kernelspec": {
      "display_name": "Python 3.10.2 64-bit",
      "language": "python",
      "name": "python3"
    },
    "language_info": {
      "codemirror_mode": {
        "name": "ipython",
        "version": 3
      },
      "file_extension": ".py",
      "mimetype": "text/x-python",
      "name": "python",
      "nbconvert_exporter": "python",
      "pygments_lexer": "ipython3",
      "version": "3.10.2"
    },
    "vscode": {
      "interpreter": {
        "hash": "369f2c481f4da34e4445cda3fffd2e751bd1c4d706f27375911949ba6bb62e1c"
      }
    }
  },
  "nbformat": 4,
  "nbformat_minor": 0
}